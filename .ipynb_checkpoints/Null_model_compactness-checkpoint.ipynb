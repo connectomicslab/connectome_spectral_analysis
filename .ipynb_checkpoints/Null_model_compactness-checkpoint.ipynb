{
 "cells": [
  {
   "cell_type": "code",
   "execution_count": 1,
   "metadata": {},
   "outputs": [],
   "source": [
    "import numpy as np\n",
    "import os\n",
    "import mne\n",
    "import matplotlib.pyplot as plt\n",
    "import scipy.io\n",
    "import pickle\n",
    "import pandas as pd\n",
    "import pycartool\n",
    "import tqdm"
   ]
  },
  {
   "cell_type": "code",
   "execution_count": 2,
   "metadata": {},
   "outputs": [],
   "source": [
    "\n",
    "scale = 3\n",
    "data_dir = '/Volumes/SSD-Bercows/Joan/research/0_data/'\n",
    "bids_dir = os.path.join(data_dir,\"DS001_BIDS\")\n",
    "output_dir = os.path.join(bids_dir, \"derivatives\")\n",
    "cartool_dir = os.path.join(output_dir, \"cartool-v3.80\")\n"
   ]
  },
  {
   "cell_type": "code",
   "execution_count": 3,
   "metadata": {},
   "outputs": [],
   "source": [
    "from utils.compactness import compress,compress_error\n",
    "\n",
    "def compression_error_f(data):\n",
    "    \n",
    "    percentiles = np.arange(1,101,1)\n",
    "    compression_error = np.zeros(len(percentiles))\n",
    "    for p, percentile in enumerate(percentiles):\n",
    "        compressed_data = compress(data.reshape(-1,1), percentile,1)\n",
    "        compression_error[p] = compress_error(data.reshape(-1,1),compressed_data)\n",
    "    return np.mean(compression_error)\n",
    "\n",
    "\n",
    "def correlation_f(data):\n",
    "    percentiles = np.arange(1,101,1)\n",
    "    correlation = np.zeros(len(percentiles))\n",
    "    for p, percentile in enumerate(percentiles):\n",
    "        compressed_data = compress(data.reshape(-1,1), percentile,1)\n",
    "        correlation[p] = np.corrcoef(data,compressed_data.reshape(-1))[0, 1]\n",
    "    return np.mean(correlation)\n",
    "\n",
    "\n",
    "def compression_and_correlation_f2(data):\n",
    "    \n",
    "    percentiles = np.arange(1,101,1)\n",
    "    compression_error = np.zeros(len(percentiles))\n",
    "    \n",
    "    for p, percentile in enumerate(percentiles):\n",
    "        compressed_data = compress(data, percentile,(1,2))\n",
    "        compression_error[p] = compress_error(data.mean(2),\n",
    "                                              compressed_data.mean(2))\n",
    "        correlation_roi[s, p] = np.corrcoef(data.mean(2).flatten(),\n",
    "                                              compressed_data.mean(2).flatten())[0, 1]\n",
    "\n",
    "    return np.mean(compression_error),np.mean(correlation)"
   ]
  },
  {
   "cell_type": "markdown",
   "metadata": {},
   "source": [
    "### Load EUC & SC"
   ]
  },
  {
   "cell_type": "code",
   "execution_count": 4,
   "metadata": {},
   "outputs": [],
   "source": [
    "from utils.data import loader_sc,loader_sc_surrogates,loader_sc_surrogates_geometry_preserving\n",
    "researchdir = '/Volumes/SSD-Bercows/Joan/research' \n",
    "len_vs_num = 'num'\n",
    "scale = 3\n",
    "sc_rand_dir = os.path.join(researchdir,\"3_archive/Connectome_Harmonics_VEP/data/SC_surrogates/degree_preserving/SC_{}/scale_{}\".format(len_vs_num,scale))\n",
    "sc_rand_dir_geometry =  os.path.join(researchdir,\"3_archive/Connectome_Harmonics_VEP/data/SC_surrogates/geometry_preserving/SC_{}/scale_{}\".format(len_vs_num,scale))\n",
    "# data properties\n",
    "subject_list = [1,2,3,4,6,7,8,9,10,11,12,13,14,15,16,17,18,19,20]\n",
    "\n",
    "sc = loader_sc(scale,data_dir,len_vs_num)\n",
    "sc_surro = loader_sc_surrogates(sc_rand_dir)[:10]\n",
    "sc_surro_geometry = loader_sc_surrogates_geometry_preserving(sc_rand_dir_geometry,scale,data_dir)"
   ]
  },
  {
   "cell_type": "code",
   "execution_count": 5,
   "metadata": {
    "scrolled": true
   },
   "outputs": [
    {
     "name": "stderr",
     "output_type": "stream",
     "text": [
      "<ipython-input-5-6ca9cdb7a670>:16: RuntimeWarning: divide by zero encountered in true_divide\n",
      "  inv_euc = (1/squareform(pdist(pos)))\n",
      "<ipython-input-5-6ca9cdb7a670>:16: RuntimeWarning: divide by zero encountered in true_divide\n",
      "  inv_euc = (1/squareform(pdist(pos)))\n",
      "<ipython-input-5-6ca9cdb7a670>:16: RuntimeWarning: divide by zero encountered in true_divide\n",
      "  inv_euc = (1/squareform(pdist(pos)))\n",
      "<ipython-input-5-6ca9cdb7a670>:16: RuntimeWarning: divide by zero encountered in true_divide\n",
      "  inv_euc = (1/squareform(pdist(pos)))\n",
      "<ipython-input-5-6ca9cdb7a670>:16: RuntimeWarning: divide by zero encountered in true_divide\n",
      "  inv_euc = (1/squareform(pdist(pos)))\n",
      "<ipython-input-5-6ca9cdb7a670>:16: RuntimeWarning: divide by zero encountered in true_divide\n",
      "  inv_euc = (1/squareform(pdist(pos)))\n",
      "<ipython-input-5-6ca9cdb7a670>:16: RuntimeWarning: divide by zero encountered in true_divide\n",
      "  inv_euc = (1/squareform(pdist(pos)))\n",
      "<ipython-input-5-6ca9cdb7a670>:16: RuntimeWarning: divide by zero encountered in true_divide\n",
      "  inv_euc = (1/squareform(pdist(pos)))\n",
      "<ipython-input-5-6ca9cdb7a670>:16: RuntimeWarning: divide by zero encountered in true_divide\n",
      "  inv_euc = (1/squareform(pdist(pos)))\n",
      "<ipython-input-5-6ca9cdb7a670>:16: RuntimeWarning: divide by zero encountered in true_divide\n",
      "  inv_euc = (1/squareform(pdist(pos)))\n",
      "<ipython-input-5-6ca9cdb7a670>:16: RuntimeWarning: divide by zero encountered in true_divide\n",
      "  inv_euc = (1/squareform(pdist(pos)))\n",
      "<ipython-input-5-6ca9cdb7a670>:16: RuntimeWarning: divide by zero encountered in true_divide\n",
      "  inv_euc = (1/squareform(pdist(pos)))\n",
      "<ipython-input-5-6ca9cdb7a670>:16: RuntimeWarning: divide by zero encountered in true_divide\n",
      "  inv_euc = (1/squareform(pdist(pos)))\n",
      "<ipython-input-5-6ca9cdb7a670>:16: RuntimeWarning: divide by zero encountered in true_divide\n",
      "  inv_euc = (1/squareform(pdist(pos)))\n",
      "<ipython-input-5-6ca9cdb7a670>:16: RuntimeWarning: divide by zero encountered in true_divide\n",
      "  inv_euc = (1/squareform(pdist(pos)))\n",
      "<ipython-input-5-6ca9cdb7a670>:16: RuntimeWarning: divide by zero encountered in true_divide\n",
      "  inv_euc = (1/squareform(pdist(pos)))\n",
      "<ipython-input-5-6ca9cdb7a670>:16: RuntimeWarning: divide by zero encountered in true_divide\n",
      "  inv_euc = (1/squareform(pdist(pos)))\n",
      "<ipython-input-5-6ca9cdb7a670>:16: RuntimeWarning: divide by zero encountered in true_divide\n",
      "  inv_euc = (1/squareform(pdist(pos)))\n",
      "<ipython-input-5-6ca9cdb7a670>:16: RuntimeWarning: divide by zero encountered in true_divide\n",
      "  inv_euc = (1/squareform(pdist(pos)))\n"
     ]
    }
   ],
   "source": [
    "from scipy.spatial.distance import pdist,squareform\n",
    "from utils.data import Connectome\n",
    "roifname = os.path.join(data_dir, 'Lausanne2008_Yeo7RSNs.xlsx')\n",
    "roidata = pd.read_excel(roifname, sheet_name='SCALE {}'.format(scale))\n",
    "cort = np.where(roidata['Structure'] == 'cort')[0]\n",
    "euc = []\n",
    "for s,sub in enumerate(subject_list):\n",
    "    subject = f'sub-{str(sub).zfill(2)}'\n",
    "    pos = scipy.io.loadmat(os.path.join(bids_dir,\n",
    "                                     'derivatives',\n",
    "                                     'cmp-v3.0.0-beta-RC1',\n",
    "                                     subject,\n",
    "                                     'connectivity',\n",
    "                                     f'{subject}_label-L2008_desc-scale{scale}_conndata-snetwork_connectivity.mat'))['nodes'][0][0][0][cort]\n",
    "\n",
    "    inv_euc = (1/squareform(pdist(pos)))\n",
    "    inv_euc = (inv_euc + inv_euc.T)*0.5\n",
    "    inv_euc[np.diag_indices(len(pos))]=0\n",
    "    euc.append( Connectome(inv_euc))"
   ]
  },
  {
   "cell_type": "code",
   "execution_count": 34,
   "metadata": {
    "scrolled": true
   },
   "outputs": [
    {
     "name": "stderr",
     "output_type": "stream",
     "text": [
      "0it [00:00, ?it/s]\n",
      "  0%|          | 0/10 [00:00<?, ?it/s]\u001b[A"
     ]
    },
    {
     "name": "stdout",
     "output_type": "stream",
     "text": [
      "Missing cortical areas:  []\n",
      "Reading /Volumes/SSD-Bercows/Joan/research/0_data/DS001_BIDS/derivatives/cartool-v3.80/sub-01/eeg/sub-01_eeg.LAURA.is\n",
      "Reading Header...\n",
      "IS type: IS03\n",
      "n_channels: 128\n",
      "n_solutionpoints: 5001\n",
      "n_regularizations: 13\n",
      "Inverse solution is Vectorial\n",
      "Reading Variable Header...\n",
      "Regularizations values: [0.0, 35.36394375, 70.7278875, 106.09183125, 141.455775, 176.81971875, 212.1836625, 247.54760625, 282.91155, 318.27549375, 353.6394375, 389.00338125, 424.367325]\n",
      "Regularizations names: ['Regularization 0', 'Regularization 1', 'Regularization 2', 'Regularization 3', 'Regularization 4', 'Regularization 5', 'Regularization 6', 'Regularization 7', 'Regularization 8', 'Regularization 9', 'Regularization 10', 'Regularization 11', 'Regularization 12']\n"
     ]
    },
    {
     "name": "stderr",
     "output_type": "stream",
     "text": [
      "  0%|          | 0/10 [02:46<?, ?it/s]\n",
      "0it [02:46, ?it/s]\n"
     ]
    },
    {
     "ename": "ValueError",
     "evalue": "m has more than 2 dimensions",
     "output_type": "error",
     "traceback": [
      "\u001b[0;31m---------------------------------------------------------------------------\u001b[0m",
      "\u001b[0;31mValueError\u001b[0m                                Traceback (most recent call last)",
      "\u001b[0;32m<ipython-input-34-7c85fc19f60c>\u001b[0m in \u001b[0;36m<module>\u001b[0;34m\u001b[0m\n\u001b[1;32m     76\u001b[0m         \u001b[0mcompression_err_euc_wn\u001b[0m\u001b[0;34m[\u001b[0m\u001b[0ms\u001b[0m\u001b[0;34m,\u001b[0m\u001b[0mr\u001b[0m\u001b[0;34m]\u001b[0m \u001b[0;34m=\u001b[0m \u001b[0mcompression_error_f\u001b[0m\u001b[0;34m(\u001b[0m\u001b[0meuc\u001b[0m\u001b[0;34m[\u001b[0m\u001b[0ms\u001b[0m\u001b[0;34m]\u001b[0m\u001b[0;34m.\u001b[0m\u001b[0mgft\u001b[0m\u001b[0;34m(\u001b[0m\u001b[0mx_rec_roi\u001b[0m\u001b[0;34m)\u001b[0m\u001b[0;34m)\u001b[0m\u001b[0;34m\u001b[0m\u001b[0;34m\u001b[0m\u001b[0m\n\u001b[1;32m     77\u001b[0m \u001b[0;34m\u001b[0m\u001b[0m\n\u001b[0;32m---> 78\u001b[0;31m         \u001b[0mcorrelation_roi_wn\u001b[0m\u001b[0;34m[\u001b[0m\u001b[0ms\u001b[0m\u001b[0;34m,\u001b[0m\u001b[0mr\u001b[0m\u001b[0;34m]\u001b[0m \u001b[0;34m=\u001b[0m \u001b[0mcorrelation_f\u001b[0m\u001b[0;34m(\u001b[0m\u001b[0mx_rec_roi\u001b[0m\u001b[0;34m)\u001b[0m\u001b[0;34m\u001b[0m\u001b[0;34m\u001b[0m\u001b[0m\n\u001b[0m\u001b[1;32m     79\u001b[0m         \u001b[0mcorrelation_gft_wn\u001b[0m\u001b[0;34m[\u001b[0m\u001b[0ms\u001b[0m\u001b[0;34m,\u001b[0m\u001b[0mr\u001b[0m\u001b[0;34m]\u001b[0m \u001b[0;34m=\u001b[0m \u001b[0mcorrelation_f\u001b[0m\u001b[0;34m(\u001b[0m\u001b[0msc\u001b[0m\u001b[0;34m.\u001b[0m\u001b[0mgft\u001b[0m\u001b[0;34m(\u001b[0m\u001b[0mx_rec_roi\u001b[0m\u001b[0;34m)\u001b[0m\u001b[0;34m)\u001b[0m\u001b[0;34m\u001b[0m\u001b[0;34m\u001b[0m\u001b[0m\n\u001b[1;32m     80\u001b[0m         \u001b[0mcorrelation_euc_wn\u001b[0m\u001b[0;34m[\u001b[0m\u001b[0ms\u001b[0m\u001b[0;34m,\u001b[0m\u001b[0mr\u001b[0m\u001b[0;34m]\u001b[0m \u001b[0;34m=\u001b[0m \u001b[0mcorrelation_f\u001b[0m\u001b[0;34m(\u001b[0m\u001b[0meuc\u001b[0m\u001b[0;34m[\u001b[0m\u001b[0ms\u001b[0m\u001b[0;34m]\u001b[0m\u001b[0;34m.\u001b[0m\u001b[0mgft\u001b[0m\u001b[0;34m(\u001b[0m\u001b[0mx_rec_roi\u001b[0m\u001b[0;34m)\u001b[0m\u001b[0;34m)\u001b[0m\u001b[0;34m\u001b[0m\u001b[0;34m\u001b[0m\u001b[0m\n",
      "\u001b[0;32m<ipython-input-3-655c70957b3c>\u001b[0m in \u001b[0;36mcorrelation_f\u001b[0;34m(data)\u001b[0m\n\u001b[1;32m     16\u001b[0m     \u001b[0;32mfor\u001b[0m \u001b[0mp\u001b[0m\u001b[0;34m,\u001b[0m \u001b[0mpercentile\u001b[0m \u001b[0;32min\u001b[0m \u001b[0menumerate\u001b[0m\u001b[0;34m(\u001b[0m\u001b[0mpercentiles\u001b[0m\u001b[0;34m)\u001b[0m\u001b[0;34m:\u001b[0m\u001b[0;34m\u001b[0m\u001b[0;34m\u001b[0m\u001b[0m\n\u001b[1;32m     17\u001b[0m         \u001b[0mcompressed_data\u001b[0m \u001b[0;34m=\u001b[0m \u001b[0mcompress\u001b[0m\u001b[0;34m(\u001b[0m\u001b[0mdata\u001b[0m\u001b[0;34m.\u001b[0m\u001b[0mreshape\u001b[0m\u001b[0;34m(\u001b[0m\u001b[0;34m-\u001b[0m\u001b[0;36m1\u001b[0m\u001b[0;34m,\u001b[0m\u001b[0;36m1\u001b[0m\u001b[0;34m)\u001b[0m\u001b[0;34m,\u001b[0m \u001b[0mpercentile\u001b[0m\u001b[0;34m,\u001b[0m\u001b[0;36m1\u001b[0m\u001b[0;34m)\u001b[0m\u001b[0;34m\u001b[0m\u001b[0;34m\u001b[0m\u001b[0m\n\u001b[0;32m---> 18\u001b[0;31m         \u001b[0mcorrelation\u001b[0m\u001b[0;34m[\u001b[0m\u001b[0mp\u001b[0m\u001b[0;34m]\u001b[0m \u001b[0;34m=\u001b[0m \u001b[0mnp\u001b[0m\u001b[0;34m.\u001b[0m\u001b[0mcorrcoef\u001b[0m\u001b[0;34m(\u001b[0m\u001b[0mdata\u001b[0m\u001b[0;34m,\u001b[0m\u001b[0mcompressed_data\u001b[0m\u001b[0;34m.\u001b[0m\u001b[0mreshape\u001b[0m\u001b[0;34m(\u001b[0m\u001b[0;34m-\u001b[0m\u001b[0;36m1\u001b[0m\u001b[0;34m)\u001b[0m\u001b[0;34m)\u001b[0m\u001b[0;34m[\u001b[0m\u001b[0;36m0\u001b[0m\u001b[0;34m,\u001b[0m \u001b[0;36m1\u001b[0m\u001b[0;34m]\u001b[0m\u001b[0;34m\u001b[0m\u001b[0;34m\u001b[0m\u001b[0m\n\u001b[0m\u001b[1;32m     19\u001b[0m     \u001b[0;32mreturn\u001b[0m \u001b[0mnp\u001b[0m\u001b[0;34m.\u001b[0m\u001b[0mmean\u001b[0m\u001b[0;34m(\u001b[0m\u001b[0mcorrelation\u001b[0m\u001b[0;34m)\u001b[0m\u001b[0;34m\u001b[0m\u001b[0;34m\u001b[0m\u001b[0m\n\u001b[1;32m     20\u001b[0m \u001b[0;34m\u001b[0m\u001b[0m\n",
      "\u001b[0;32m<__array_function__ internals>\u001b[0m in \u001b[0;36mcorrcoef\u001b[0;34m(*args, **kwargs)\u001b[0m\n",
      "\u001b[0;32m~/miniconda3/envs/gsp/lib/python3.8/site-packages/numpy/lib/function_base.py\u001b[0m in \u001b[0;36mcorrcoef\u001b[0;34m(x, y, rowvar, bias, ddof)\u001b[0m\n\u001b[1;32m   2549\u001b[0m         warnings.warn('bias and ddof have no effect and are deprecated',\n\u001b[1;32m   2550\u001b[0m                       DeprecationWarning, stacklevel=3)\n\u001b[0;32m-> 2551\u001b[0;31m     \u001b[0mc\u001b[0m \u001b[0;34m=\u001b[0m \u001b[0mcov\u001b[0m\u001b[0;34m(\u001b[0m\u001b[0mx\u001b[0m\u001b[0;34m,\u001b[0m \u001b[0my\u001b[0m\u001b[0;34m,\u001b[0m \u001b[0mrowvar\u001b[0m\u001b[0;34m)\u001b[0m\u001b[0;34m\u001b[0m\u001b[0;34m\u001b[0m\u001b[0m\n\u001b[0m\u001b[1;32m   2552\u001b[0m     \u001b[0;32mtry\u001b[0m\u001b[0;34m:\u001b[0m\u001b[0;34m\u001b[0m\u001b[0;34m\u001b[0m\u001b[0m\n\u001b[1;32m   2553\u001b[0m         \u001b[0md\u001b[0m \u001b[0;34m=\u001b[0m \u001b[0mdiag\u001b[0m\u001b[0;34m(\u001b[0m\u001b[0mc\u001b[0m\u001b[0;34m)\u001b[0m\u001b[0;34m\u001b[0m\u001b[0;34m\u001b[0m\u001b[0m\n",
      "\u001b[0;32m<__array_function__ internals>\u001b[0m in \u001b[0;36mcov\u001b[0;34m(*args, **kwargs)\u001b[0m\n",
      "\u001b[0;32m~/miniconda3/envs/gsp/lib/python3.8/site-packages/numpy/lib/function_base.py\u001b[0m in \u001b[0;36mcov\u001b[0;34m(m, y, rowvar, bias, ddof, fweights, aweights)\u001b[0m\n\u001b[1;32m   2394\u001b[0m     \u001b[0mm\u001b[0m \u001b[0;34m=\u001b[0m \u001b[0mnp\u001b[0m\u001b[0;34m.\u001b[0m\u001b[0masarray\u001b[0m\u001b[0;34m(\u001b[0m\u001b[0mm\u001b[0m\u001b[0;34m)\u001b[0m\u001b[0;34m\u001b[0m\u001b[0;34m\u001b[0m\u001b[0m\n\u001b[1;32m   2395\u001b[0m     \u001b[0;32mif\u001b[0m \u001b[0mm\u001b[0m\u001b[0;34m.\u001b[0m\u001b[0mndim\u001b[0m \u001b[0;34m>\u001b[0m \u001b[0;36m2\u001b[0m\u001b[0;34m:\u001b[0m\u001b[0;34m\u001b[0m\u001b[0;34m\u001b[0m\u001b[0m\n\u001b[0;32m-> 2396\u001b[0;31m         \u001b[0;32mraise\u001b[0m \u001b[0mValueError\u001b[0m\u001b[0;34m(\u001b[0m\u001b[0;34m\"m has more than 2 dimensions\"\u001b[0m\u001b[0;34m)\u001b[0m\u001b[0;34m\u001b[0m\u001b[0;34m\u001b[0m\u001b[0m\n\u001b[0m\u001b[1;32m   2397\u001b[0m \u001b[0;34m\u001b[0m\u001b[0m\n\u001b[1;32m   2398\u001b[0m     \u001b[0;32mif\u001b[0m \u001b[0my\u001b[0m \u001b[0;32mis\u001b[0m \u001b[0;32mNone\u001b[0m\u001b[0;34m:\u001b[0m\u001b[0;34m\u001b[0m\u001b[0;34m\u001b[0m\u001b[0m\n",
      "\u001b[0;31mValueError\u001b[0m: m has more than 2 dimensions"
     ]
    }
   ],
   "source": [
    "n_realizations = 10\n",
    "n_sub = len(subject_list)\n",
    "compression_err_roi_wn = np.zeros((n_sub,n_realizations))\n",
    "compression_err_gft_wn = np.zeros((n_sub,n_realizations))\n",
    "compression_err_euc_wn = np.zeros((n_sub,n_realizations))\n",
    "compression_err_gft_sur_wn = np.zeros((n_sub,n_realizations,len(sc_surro)))\n",
    "compression_err_gft_gsur_wn = np.zeros((n_sub,n_realizations,len(sc_surro)))\n",
    "\n",
    "correlation_roi_wn = np.zeros((n_sub,n_realizations))\n",
    "correlation_gft_wn = np.zeros((n_sub,n_realizations))\n",
    "correlation_euc_wn = np.zeros((n_sub,n_realizations))\n",
    "correlation_gft_sur_wn = np.zeros((n_sub,n_realizations,len(sc_surro)))\n",
    "correlation_gft_gsur_wn = np.zeros((n_sub,n_realizations,len(sc_surro)))\n",
    "\n",
    "\n",
    "for s,sub in tqdm.tqdm(enumerate(subject_list)):\n",
    "\n",
    "    subject = f'sub-{str(sub).zfill(2)}'    \n",
    " \n",
    "    roi_filename = os.path.join(\n",
    "        cartool_dir,\n",
    "        f\"{subject}\",\n",
    "        \"rois\",\n",
    "        f\"{subject}_label-L2008_desc-scale{scale}.pickle.rois\"\n",
    "    )\n",
    "    pickle_in = open(roi_filename, \"rb\")\n",
    "    roi_file = pickle.load(pickle_in)\n",
    "    pickle_in.close()\n",
    "\n",
    "    # Select only cortical areas\n",
    "    roi_fname = os.path.join(data_dir, \"Lausanne2008_Yeo7RSNs.xlsx\")\n",
    "    roi_data = pd.read_excel(roi_fname, sheet_name=f\"SCALE {scale}\")\n",
    "    cort = np.where(roi_data[\"Structure\"] == \"cort\")[0]\n",
    "    cort_missing = np.array([elem for elem in cort if str(elem + 1) not in roi_file.names])\n",
    "    cort = np.array(\n",
    "        [roi_file.names.index(str(elem + 1)) for elem in cort if str(elem + 1) in roi_file.names]\n",
    "    )\n",
    "    print(\"Missing cortical areas: \", cort_missing)\n",
    "\n",
    "    # Get LAURA inverse solution\n",
    "    is_filename = os.path.join(cartool_dir, subject, \"eeg\", subject + \"_eeg.LAURA.is\")\n",
    "    is_file = pycartool.io.inverse_solution.read_is(is_filename)\n",
    "\n",
    "    # Load EEG data (all trials)\n",
    "    spi_fname = os.path.join(cartool_dir, subject, \"eeg\", subject + \"_eeg.spi\")\n",
    "    spi = pycartool.source_space.read_spi(spi_fname)\n",
    "\n",
    "    leadfield = pycartool.io.leadfield.read_lf(os.path.join(output_dir,f'Cartool-v3.80_old/{subject}/{subject}.Lead Field.lf'))\n",
    "    ileadfield = is_file['regularisation_solutions'][6]\n",
    "    \n",
    "    m,n,_ = leadfield.shape\n",
    "\n",
    "    for r in tqdm.tqdm(range(n_realizations)):\n",
    "        #x = np.random.rand(n,1)\n",
    "        #x = (np.random.rand(n,3)-0.5)*2\n",
    "        #x_rec = np.zeros((n,3))\n",
    "        #b = np.zeros(m)\n",
    "        #for i in range(3):\n",
    "        #    b += leadfield[...,i]@x[...,i]\n",
    "    \n",
    "        time = 100\n",
    "        trials = 200\n",
    "        b = (np.random.rand(m,3,time,trials)-0.5)*2\n",
    "        x_rec = np.einsum(\"ijkl, jmi -> mjkl\", b, ileadfield)\n",
    "\n",
    "        x_rec_roi = np.zeros((len(cort),time,trials))\n",
    "        x_rec = x_rec.transpose(1,0,2,3)\n",
    "        for i,n_roi in enumerate(cort):\n",
    "            spis_this_roi = roi_file.groups_of_indexes[n_roi]\n",
    "            u1, _, _ = np.linalg.svd(x_rec.mean((2,3)).reshape(3, -1))\n",
    "            spis_this_roi = roi_file.groups_of_indexes[n_roi]\n",
    "            x_rec_roi[i] = np.einsum(\"ij, jklm -> klm\",u1[:, 0].reshape(1, 3),x_rec[:,spis_this_roi]).mean(0)\n",
    "        \n",
    "        compressed_epochs = compress(epochs, percentile, (1, 2))\n",
    "            compression_error_roi[s, p] = compress_error(epochs.mean(2),\n",
    "                                                      compressed_epochs.mean(2))\n",
    "            correlation_roi[s, p] = np.corrcoef(epochs.mean(2).flatten(),\n",
    "                                                compressed_epochs.mean(2).flatten())[0, 1]\n",
    "            \n",
    "        compression_err_roi_wn[s,r] = compression_error_f(x_rec_roi)        \n",
    "        compression_err_gft_wn[s,r] = compression_error_f(sc.gft(x_rec_roi))\n",
    "        compression_err_euc_wn[s,r] = compression_error_f(euc[s].gft(x_rec_roi))\n",
    "\n",
    "        correlation_roi_wn[s,r] = correlation_f(x_rec_roi)        \n",
    "        correlation_gft_wn[s,r] = correlation_f(sc.gft(x_rec_roi))\n",
    "        correlation_euc_wn[s,r] = correlation_f(euc[s].gft(x_rec_roi))\n",
    "        \n",
    "        for r2 in range(len(sc_surro)):\n",
    "            compression_err_gft_sur_wn[s,r,r2] = compression_error_f(sc_surro[r2].gft(x_rec_roi))\n",
    "            compression_err_gft_gsur_wn[s,r,r2] = compression_error_f(sc_surro_geometry[0][r2].gft(x_rec_roi))\n",
    "\n",
    "            correlation_gft_sur_wn[s,r,r2] = correlation_f(sc_surro[r2].gft(x_rec_roi))\n",
    "            correlation_gft_gsur_wn[s,r,r2] = correlation_f(sc_surro_geometry[0][r2].gft(x_rec_roi))\n",
    "            \n",
    "            "
   ]
  },
  {
   "cell_type": "code",
   "execution_count": 19,
   "metadata": {},
   "outputs": [],
   "source": [
    "np.save('results/white_noise/compression_err_roi_wn',compression_err_roi_wn)\n",
    "np.save('results/white_noise/compression_err_gft_wn',compression_err_gft_wn)\n",
    "np.save('results/white_noise/compression_err_euc_wn',compression_err_euc_wn)\n",
    "np.save('results/white_noise/compression_err_gft_sur_wn',compression_err_gft_sur_wn)\n",
    "np.save('results/white_noise/compression_err_gft_gsur_wn',compression_err_gft_gsur_wn)\n",
    "np.save('results/white_noise/correlation_roi_wn',correlation_roi_wn)\n",
    "np.save('results/white_noise/correlation_gft_wn',correlation_gft_wn)\n",
    "np.save('results/white_noise/correlation_euc_wn',correlation_euc_wn)\n",
    "np.save('results/white_noise/correlation_gft_sur_wn',correlation_gft_sur_wn)\n",
    "np.save('results/white_noise/correlation_gft_gsur_wn',correlation_gft_gsur_wn)"
   ]
  },
  {
   "cell_type": "code",
   "execution_count": 304,
   "metadata": {},
   "outputs": [
    {
     "name": "stdout",
     "output_type": "stream",
     "text": [
      "compression_error_f(x_roi) = 0.33199009143147434\n",
      "compression_error_f(x_rec_roi) = 0.42519746290268196\n"
     ]
    },
    {
     "data": {
      "image/png": "[encoded data removed]",
      "text/plain": [
       "<Figure size 432x288 with 2 Axes>"
      ]
     },
     "metadata": {
      "needs_background": "light"
     },
     "output_type": "display_data"
    }
   ],
   "source": [
    "plt.subplot(2,1,1)\n",
    "plt.plot(x.mean(1),label='orig')\n",
    "plt.plot(x_rec.mean(1),label='LAURA-recons')\n",
    "plt.xlabel('source id')\n",
    "plt.legend()\n",
    "plt.subplot(2,1,2)\n",
    "plt.plot(x_roi,label='roi-orig')\n",
    "plt.plot(x_rec_roi,label='roi-LAURA-recons')\n",
    "plt.xlabel('roi id')\n",
    "plt.legend()\n",
    "print(f'{compression_error_f(x_roi) = }')\n",
    "print(f'{compression_error_f(x_rec_roi) = }')"
   ]
  },
  {
   "cell_type": "code",
   "execution_count": 305,
   "metadata": {},
   "outputs": [
    {
     "data": {
      "text/plain": [
       "\"plt.subplot(211)\\nplt.boxplot(data_comp_wn,labels = labels);\\nplt.title('Compactness perf. of white noise')\\n\\nplt.subplot(212)\\nplt.boxplot(data_corr_wn,labels = labels);\\nplt.title('Correlation of white noise')\""
      ]
     },
     "execution_count": 305,
     "metadata": {},
     "output_type": "execute_result"
    }
   ],
   "source": [
    "labels = ['r','$\\lambda$','euc','sur','gsur']\n",
    "\n",
    "data_comp_wn = [\n",
    "    np.mean(1-compression_err_roi_wn),\n",
    "    np.mean(1-compression_err_gft_wn),\n",
    "    np.mean(1-compression_err_euc_wn),\n",
    "    np.mean(1-compression_err_gft_sur_wn),\n",
    "    np.mean(1-compression_err_gft_gsur_wn)\n",
    "]\n",
    "\n",
    "data_corr_wn = [\n",
    "    np.mean(correlation_roi_wn),\n",
    "    np.mean(correlation_gft_wn),\n",
    "    np.mean(correlation_euc_wn),\n",
    "    np.mean(correlation_gft_sur_wn),\n",
    "    np.mean(correlation_gft_gsur_wn)\n",
    "]\n",
    "\n",
    "\"\"\"plt.subplot(211)\n",
    "plt.boxplot(data_comp_wn,labels = labels);\n",
    "plt.title('Compactness perf. of white noise')\n",
    "\n",
    "plt.subplot(212)\n",
    "plt.boxplot(data_corr_wn,labels = labels);\n",
    "plt.title('Correlation of white noise')\"\"\""
   ]
  },
  {
   "cell_type": "markdown",
   "metadata": {},
   "source": [
    "### Load empirical compacntess"
   ]
  },
  {
   "cell_type": "code",
   "execution_count": 146,
   "metadata": {},
   "outputs": [],
   "source": [
    "compactness_path = os.path.join(researchdir,\"3_archive/Connectome_Harmonics_VEP/data/results_SC_{}/compactness/\".format(len_vs_num))"
   ]
  },
  {
   "cell_type": "code",
   "execution_count": 36,
   "metadata": {},
   "outputs": [],
   "source": [
    "compression_err_roi = np.load(os.path.join(compactness_path,'compression_ROI.npy'))\n",
    "correlation_roi = np.load(os.path.join(compactness_path,'correlation_ROI.npy'))\n",
    "\n",
    "compression_err_gft = np.load(os.path.join(compactness_path,'compression_GFT.npy'))\n",
    "correlation_gft = np.load(os.path.join(compactness_path,'correlation_GFT.npy'))\n",
    "\n",
    "compression_err_gft_sur = np.load(os.path.join(compactness_path,'compression_RND.npy'))\n",
    "correlation_gft_sur = np.load(os.path.join(compactness_path,'correlation_RND.npy'))\n",
    "\n",
    "compression_err_euc = np.load(os.path.join(compactness_path,'compression_euc.npy'))\n",
    "correlation_euc = np.load(os.path.join(compactness_path,'correlation_euc.npy')) \n",
    "\n",
    "compression_err_gft_gsur = np.load(os.path.join(compactness_path,'compression_wwp.npy'))\n",
    "correlation_gft_gsur = np.load(os.path.join(compactness_path,'correlation_wwp.npy'))\n"
   ]
  },
  {
   "cell_type": "code",
   "execution_count": 306,
   "metadata": {},
   "outputs": [],
   "source": [
    "#[np.mean(1-compression_error_roi,-1),np.mean(1-compression_error_nh,-1),np.mean(1-compression_error_rand_nh,-1).flatten(),np.mean(1-compression_error_wwp,-1).flatten(),np.mean(1-compression_error_euc,-1), np.mean(1-compression_error_PCA,-1), np.mean(1-compression_error_ICA,-1)]\n",
    "\n",
    "data_comp = [\n",
    "    np.mean(1-compression_err_roi,-1),\n",
    "    np.mean(1-compression_err_gft,-1),\n",
    "    np.mean(1-compression_err_euc,-1),\n",
    "    np.mean(1-compression_err_gft_sur,-1).T.flatten(),\n",
    "    np.mean(1-compression_err_gft_gsur,-1).T.flatten()\n",
    "]\n",
    "\n",
    "data_corr = [\n",
    "    np.mean(correlation_roi,-1),\n",
    "    np.mean(correlation_gft,-1),\n",
    "    np.mean(correlation_euc,-1),\n",
    "    np.mean(correlation_gft_sur,-1).T.flatten(),\n",
    "    np.mean(correlation_gft_gsur,-1).T.flatten()\n",
    "]"
   ]
  },
  {
   "cell_type": "code",
   "execution_count": 307,
   "metadata": {
    "scrolled": false
   },
   "outputs": [],
   "source": [
    "data_delt_comp = [data_comp[i]-data_comp_wn[i] for i in range(len(labels))]\n",
    "data_delt_corr = [data_corr[i]-data_corr_wn[i] for i in range(len(labels))]"
   ]
  },
  {
   "cell_type": "code",
   "execution_count": 308,
   "metadata": {},
   "outputs": [
    {
     "data": {
      "image/png": "[encoded data removed]",
      "text/plain": [
       "<Figure size 432x288 with 2 Axes>"
      ]
     },
     "metadata": {
      "needs_background": "light"
     },
     "output_type": "display_data"
    }
   ],
   "source": [
    "plt.subplot(211)\n",
    "plt.boxplot(data_delt_comp,labels = labels);\n",
    "plt.title('Delta Compactness performance (real-data perf. - white-noise perf.)')\n",
    "\n",
    "plt.subplot(212)\n",
    "plt.boxplot(data_delt_corr,labels = labels);\n",
    "plt.title('Delta Correlation (real-data corr. - white-noise corr.)')\n",
    "plt.tight_layout()"
   ]
  },
  {
   "cell_type": "code",
   "execution_count": null,
   "metadata": {},
   "outputs": [],
   "source": []
  },
  {
   "cell_type": "code",
   "execution_count": null,
   "metadata": {},
   "outputs": [],
   "source": [
    "cp = []\n",
    "cp_gft = []\n",
    "cp_euc = []\n",
    "\n",
    "for i in range(100):\n",
    "    #x = (np.random.rand(n)-0.5)*2\n",
    "    #b = np.mean(leadfield,-1)@x\n",
    "    b = (np.random.randn(m,100)-0.5)*2\n",
    "    x_rec = np.mean(ileadfield,0)@b\n",
    "    \n",
    "    x_rec = np.zeros((3,n,100))\n",
    "    for i in range(3):\n",
    "        x_rec[i] = ileadfield[i]@b\n",
    "\n",
    "    x_rec_roi = np.zeros((len(cort),100))\n",
    "\n",
    "    #for i,n_roi in enumerate(cort):\n",
    "    #    spis_this_roi = roi_file.groups_of_indexes[n_roi]\n",
    "    #    x_roi[i] = np.mean(x[spis_this_roi])\n",
    "    #    x_rec_roi[i] = np.mean(x_rec[spis_this_roi])\n",
    "\n",
    "    \n",
    "    for i,n_roi in enumerate(cort):\n",
    "        spis_this_roi = roi_file.groups_of_indexes[n_roi]\n",
    "        u1, _, _ = np.linalg.svd(x_rec.reshape(3, -1))\n",
    "        for spi in spis_this_roi:\n",
    "            x_rec_roi[i] += u1[:, 0].reshape(1, 3) @ x_rec[:,spi] / len(spis_this_roi)\n",
    "        #x_rec_roi[i] = np.mean(x_rec[spis_this_roi])\n",
    "\n",
    "    cp.append(1-compression_error_f(x_rec_roi))\n",
    "    cp_gft.append(1-compression_error_f(sc.gft(x_rec_roi)))\n",
    "    cp_euc.append(1-compression_error_f(euc[0].gft(x_rec_roi)))"
   ]
  },
  {
   "cell_type": "code",
   "execution_count": null,
   "metadata": {
    "scrolled": false
   },
   "outputs": [],
   "source": [
    "print(np.mean(cp))\n",
    "print(np.mean(cp_gft))\n",
    "print(np.mean(cp_euc))"
   ]
  },
  {
   "cell_type": "code",
   "execution_count": null,
   "metadata": {},
   "outputs": [],
   "source": [
    "np.mean(1-compression_err_roi)"
   ]
  },
  {
   "cell_type": "code",
   "execution_count": null,
   "metadata": {},
   "outputs": [],
   "source": [
    "np.mean(1-compression_err_gft)"
   ]
  },
  {
   "cell_type": "code",
   "execution_count": null,
   "metadata": {},
   "outputs": [],
   "source": [
    "np.mean(1-compression_err_euc)"
   ]
  },
  {
   "cell_type": "code",
   "execution_count": null,
   "metadata": {},
   "outputs": [],
   "source": []
  }
 ],
 "metadata": {
  "kernelspec": {
   "display_name": "Python 3",
   "language": "python",
   "name": "python3"
  },
  "language_info": {
   "codemirror_mode": {
    "name": "ipython",
    "version": 3
   },
   "file_extension": ".py",
   "mimetype": "text/x-python",
   "name": "python",
   "nbconvert_exporter": "python",
   "pygments_lexer": "ipython3",
   "version": "3.8.5"
  }
 },
 "nbformat": 4,
 "nbformat_minor": 4
}
